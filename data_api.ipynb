{
 "cells": [
  {
   "cell_type": "code",
   "execution_count": 1,
   "metadata": {},
   "outputs": [
    {
     "name": "stdout",
     "output_type": "stream",
     "text": [
      "Search request failed with status code 401\n"
     ]
    },
    {
     "ename": "NameError",
     "evalue": "name 'artist_id' is not defined",
     "output_type": "error",
     "traceback": [
      "\u001b[1;31m---------------------------------------------------------------------------\u001b[0m",
      "\u001b[1;31mNameError\u001b[0m                                 Traceback (most recent call last)",
      "\u001b[1;32md:\\Github\\Build-Data-Platform-With-Spotify-Data\\data_api.ipynb Cell 1\u001b[0m in \u001b[0;36m<cell line: 33>\u001b[1;34m()\u001b[0m\n\u001b[0;32m     <a href='vscode-notebook-cell:/d%3A/Github/Build-Data-Platform-With-Spotify-Data/data_api.ipynb#W0sZmlsZQ%3D%3D?line=29'>30</a>\u001b[0m     \u001b[39mprint\u001b[39m(\u001b[39mf\u001b[39m\u001b[39m\"\u001b[39m\u001b[39mSearch request failed with status code \u001b[39m\u001b[39m{\u001b[39;00msearch_response\u001b[39m.\u001b[39mstatus_code\u001b[39m}\u001b[39;00m\u001b[39m\"\u001b[39m)\n\u001b[0;32m     <a href='vscode-notebook-cell:/d%3A/Github/Build-Data-Platform-With-Spotify-Data/data_api.ipynb#W0sZmlsZQ%3D%3D?line=31'>32</a>\u001b[0m \u001b[39m# Define artist endpoint with artist ID\u001b[39;00m\n\u001b[1;32m---> <a href='vscode-notebook-cell:/d%3A/Github/Build-Data-Platform-With-Spotify-Data/data_api.ipynb#W0sZmlsZQ%3D%3D?line=32'>33</a>\u001b[0m artist_endpoint \u001b[39m=\u001b[39m \u001b[39mf\u001b[39m\u001b[39m\"\u001b[39m\u001b[39mhttps://api.spotify.com/v1/artists/\u001b[39m\u001b[39m{\u001b[39;00martist_id\u001b[39m}\u001b[39;00m\u001b[39m\"\u001b[39m\n\u001b[0;32m     <a href='vscode-notebook-cell:/d%3A/Github/Build-Data-Platform-With-Spotify-Data/data_api.ipynb#W0sZmlsZQ%3D%3D?line=34'>35</a>\u001b[0m \u001b[39m# Send GET request to artist endpoint\u001b[39;00m\n\u001b[0;32m     <a href='vscode-notebook-cell:/d%3A/Github/Build-Data-Platform-With-Spotify-Data/data_api.ipynb#W0sZmlsZQ%3D%3D?line=35'>36</a>\u001b[0m artist_response \u001b[39m=\u001b[39m requests\u001b[39m.\u001b[39mget(artist_endpoint, headers\u001b[39m=\u001b[39mheaders)\n",
      "\u001b[1;31mNameError\u001b[0m: name 'artist_id' is not defined"
     ]
    }
   ],
   "source": [
    "# Import requests library\n",
    "import requests\n",
    "\n",
    "# Define access token\n",
    "access_token = \"BQD...\"\n",
    "\n",
    "# Define headers with authorization\n",
    "headers = {\"Authorization\": \"Bearer \" + access_token}\n",
    "\n",
    "# Define artist name to search\n",
    "artist_name = \"Taylor Swift\"\n",
    "\n",
    "# Define search endpoint with query parameters\n",
    "search_endpoint = \"https://api.spotify.com/v1/search\"\n",
    "search_params = {\"q\": artist_name, \"type\": \"artist\", \"limit\": 1}\n",
    "\n",
    "# Send GET request to search endpoint\n",
    "search_response = requests.get(search_endpoint, headers=headers, params=search_params)\n",
    "\n",
    "# Check status code of search response\n",
    "if search_response.status_code == 200:\n",
    "    # Parse search response as JSON\n",
    "    search_data = search_response.json()\n",
    "    # Get artist ID from search data\n",
    "    artist_id = search_data[\"artists\"][\"items\"][0][\"id\"]\n",
    "    # Print artist ID\n",
    "    print(f\"Artist ID of {artist_name} is {artist_id}\")\n",
    "else:\n",
    "    # Print error message\n",
    "    print(f\"Search request failed with status code {search_response.status_code}\")\n",
    "\n",
    "# Define artist endpoint with artist ID\n",
    "artist_endpoint = f\"https://api.spotify.com/v1/artists/{artist_id}\"\n",
    "\n",
    "# Send GET request to artist endpoint\n",
    "artist_response = requests.get(artist_endpoint, headers=headers)\n",
    "\n",
    "# Check status code of artist response\n",
    "if artist_response.status_code == 200:\n",
    "    # Parse artist response as JSON\n",
    "    artist_data = artist_response.json()\n",
    "    # Print artist data\n",
    "    print(f\"Artist data of {artist_name} is:\")\n",
    "    print(artist_data)\n",
    "else:\n",
    "    # Print error message\n",
    "    print(f\"Artist request failed with status code {artist_response.status_code}\")\n"
   ]
  }
 ],
 "metadata": {
  "kernelspec": {
   "display_name": "Python 3",
   "language": "python",
   "name": "python3"
  },
  "language_info": {
   "codemirror_mode": {
    "name": "ipython",
    "version": 3
   },
   "file_extension": ".py",
   "mimetype": "text/x-python",
   "name": "python",
   "nbconvert_exporter": "python",
   "pygments_lexer": "ipython3",
   "version": "3.10.10"
  },
  "orig_nbformat": 4
 },
 "nbformat": 4,
 "nbformat_minor": 2
}
